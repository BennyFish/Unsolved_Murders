{
 "cells": [
  {
   "cell_type": "markdown",
   "metadata": {},
   "source": [
    "## Cleaning Data"
   ]
  },
  {
   "cell_type": "code",
   "execution_count": 1,
   "metadata": {},
   "outputs": [],
   "source": [
    "import pandas as pd"
   ]
  },
  {
   "cell_type": "code",
   "execution_count": 5,
   "metadata": {},
   "outputs": [],
   "source": [
    "data = pd.read_csv('murder_data.csv')"
   ]
  },
  {
   "cell_type": "code",
   "execution_count": 6,
   "metadata": {},
   "outputs": [
    {
     "data": {
      "text/plain": [
       "Index(['ID', 'CNTYFIPS', 'Ori', 'State', 'Agency', 'Agentype', 'Source',\n",
       "       'Solved', 'Year', 'StateName', 'Month', 'Incident', 'ActionType',\n",
       "       'Homicide', 'Situation', 'VicAge', 'VicSex', 'VicRace', 'VicEthnic',\n",
       "       'OffAge', 'OffSex', 'OffRace', 'OffEthnic', 'Weapon', 'Relationship',\n",
       "       'Circumstance', 'Subcircum', 'VicCount', 'OffCount', 'FileDate',\n",
       "       'fstate', 'MSA'],\n",
       "      dtype='object')"
      ]
     },
     "execution_count": 6,
     "metadata": {},
     "output_type": "execute_result"
    }
   ],
   "source": [
    "data.columns"
   ]
  },
  {
   "cell_type": "code",
   "execution_count": 7,
   "metadata": {},
   "outputs": [],
   "source": [
    "# Changes name of ID column to CaseID to prevent issues when creating sqlite database\n",
    "data = data.rename(columns={'ID':'CaseID'})"
   ]
  },
  {
   "cell_type": "code",
   "execution_count": 8,
   "metadata": {},
   "outputs": [],
   "source": [
    "# Changes VicAge string values to integers\n",
    "data['VicAge'] = data['VicAge'].replace('Newborn or infant', 1)\n",
    "data['VicAge'] = data['VicAge'].replace('Age unknown', 0)\n",
    "data['VicAge'] = data['VicAge'].replace('99 years old and more', 99)\n",
    "# Changes OffAge string values to integers\n",
    "data['OffAge'] = data['OffAge'].replace('Offender unknown', 0)\n",
    "data['OffAge'] = data['OffAge'].replace('99 years old and more', 99)"
   ]
  },
  {
   "cell_type": "code",
   "execution_count": 9,
   "metadata": {},
   "outputs": [
    {
     "data": {
      "text/html": [
       "<div>\n",
       "<style scoped>\n",
       "    .dataframe tbody tr th:only-of-type {\n",
       "        vertical-align: middle;\n",
       "    }\n",
       "\n",
       "    .dataframe tbody tr th {\n",
       "        vertical-align: top;\n",
       "    }\n",
       "\n",
       "    .dataframe thead th {\n",
       "        text-align: right;\n",
       "    }\n",
       "</style>\n",
       "<table border=\"1\" class=\"dataframe\">\n",
       "  <thead>\n",
       "    <tr style=\"text-align: right;\">\n",
       "      <th></th>\n",
       "      <th>CaseID</th>\n",
       "      <th>CNTYFIPS</th>\n",
       "      <th>Ori</th>\n",
       "      <th>State</th>\n",
       "      <th>Agency</th>\n",
       "      <th>Agentype</th>\n",
       "      <th>Source</th>\n",
       "      <th>Solved</th>\n",
       "      <th>Year</th>\n",
       "      <th>StateName</th>\n",
       "      <th>...</th>\n",
       "      <th>OffEthnic</th>\n",
       "      <th>Weapon</th>\n",
       "      <th>Relationship</th>\n",
       "      <th>Circumstance</th>\n",
       "      <th>Subcircum</th>\n",
       "      <th>VicCount</th>\n",
       "      <th>OffCount</th>\n",
       "      <th>FileDate</th>\n",
       "      <th>fstate</th>\n",
       "      <th>MSA</th>\n",
       "    </tr>\n",
       "  </thead>\n",
       "  <tbody>\n",
       "    <tr>\n",
       "      <th>604157</th>\n",
       "      <td>200708001CA03710</td>\n",
       "      <td>San Diego, CA</td>\n",
       "      <td>RI00409</td>\n",
       "      <td>Rhode Island</td>\n",
       "      <td>Providence</td>\n",
       "      <td>Municipal police</td>\n",
       "      <td>FBI</td>\n",
       "      <td>Yes</td>\n",
       "      <td>1976</td>\n",
       "      <td>R I</td>\n",
       "      <td>...</td>\n",
       "      <td>Unknown or not reported</td>\n",
       "      <td>Firearm, type not stated</td>\n",
       "      <td>Stranger</td>\n",
       "      <td>Other arguments</td>\n",
       "      <td>NaN</td>\n",
       "      <td>0</td>\n",
       "      <td>0</td>\n",
       "      <td>30180</td>\n",
       "      <td>Rhode Island</td>\n",
       "      <td>Providence-New Bedford-Fall River, RI-MA</td>\n",
       "    </tr>\n",
       "  </tbody>\n",
       "</table>\n",
       "<p>1 rows × 32 columns</p>\n",
       "</div>"
      ],
      "text/plain": [
       "                  CaseID       CNTYFIPS      Ori         State      Agency  \\\n",
       "604157  200708001CA03710  San Diego, CA  RI00409  Rhode Island  Providence   \n",
       "\n",
       "                Agentype Source Solved  Year StateName  \\\n",
       "604157  Municipal police    FBI    Yes  1976       R I   \n",
       "\n",
       "                          ...                                   OffEthnic  \\\n",
       "604157                    ...                     Unknown or not reported   \n",
       "\n",
       "                          Weapon Relationship     Circumstance Subcircum  \\\n",
       "604157  Firearm, type not stated     Stranger  Other arguments       NaN   \n",
       "\n",
       "       VicCount OffCount FileDate        fstate  \\\n",
       "604157        0        0    30180  Rhode Island   \n",
       "\n",
       "                                             MSA  \n",
       "604157  Providence-New Bedford-Fall River, RI-MA  \n",
       "\n",
       "[1 rows x 32 columns]"
      ]
     },
     "execution_count": 9,
     "metadata": {},
     "output_type": "execute_result"
    }
   ],
   "source": [
    "# Rhode Island was spelled incorrectly in FBI database...go figure.\n",
    "data['State'] = data['State'].replace('Rhodes Island','Rhode Island')\n",
    "data.loc[data['State']=='Rhode Island'].head(1)"
   ]
  },
  {
   "cell_type": "code",
   "execution_count": null,
   "metadata": {},
   "outputs": [],
   "source": [
    "# Rewrites data to new CSV file\n",
    "data.to_csv('clean_murder_data.csv')"
   ]
  },
  {
   "cell_type": "markdown",
   "metadata": {},
   "source": [
    "## Add State Abbreviations column"
   ]
  },
  {
   "cell_type": "code",
   "execution_count": 12,
   "metadata": {},
   "outputs": [],
   "source": [
    "stateAbbr = pd.read_csv(\"statesAbbr.csv\")"
   ]
  },
  {
   "cell_type": "code",
   "execution_count": null,
   "metadata": {},
   "outputs": [],
   "source": [
    "# Creates a funciton whos output is a State's abbreviation based on State's name as input value\n",
    "def state_to_stateAbbr(state):\n",
    "    d = stateAbbr.set_index('State').T.to_dict('records')\n",
    "    s = state.strip()\n",
    "    try:\n",
    "        abbr=d[0][s]\n",
    "        return abbr\n",
    "    except:\n",
    "        raise ValueError('ERROR')"
   ]
  },
  {
   "cell_type": "code",
   "execution_count": 10,
   "metadata": {},
   "outputs": [],
   "source": [
    "# Creates a new column for the State's abbreviation based on 'State' column\n",
    "data['StateAbbr'] = data['State'].map(state_to_stateAbbr)"
   ]
  },
  {
   "cell_type": "code",
   "execution_count": null,
   "metadata": {},
   "outputs": [],
   "source": []
  }
 ],
 "metadata": {
  "kernelspec": {
   "display_name": "Python 3",
   "language": "python",
   "name": "python3"
  },
  "language_info": {
   "codemirror_mode": {
    "name": "ipython",
    "version": 3
   },
   "file_extension": ".py",
   "mimetype": "text/x-python",
   "name": "python",
   "nbconvert_exporter": "python",
   "pygments_lexer": "ipython3",
   "version": "3.6.4"
  }
 },
 "nbformat": 4,
 "nbformat_minor": 2
}
