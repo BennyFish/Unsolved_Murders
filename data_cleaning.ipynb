{
 "cells": [
  {
   "cell_type": "markdown",
   "metadata": {},
   "source": [
    "## Cleaning Data"
   ]
  },
  {
   "cell_type": "code",
   "execution_count": 1,
   "metadata": {},
   "outputs": [],
   "source": [
    "import pandas as pd"
   ]
  },
  {
   "cell_type": "code",
   "execution_count": 2,
   "metadata": {},
   "outputs": [],
   "source": [
    "data = pd.read_csv('murder_data.csv')"
   ]
  },
  {
   "cell_type": "code",
   "execution_count": 3,
   "metadata": {},
   "outputs": [
    {
     "name": "stdout",
     "output_type": "stream",
     "text": [
      "Index(['ID', 'CNTYFIPS', 'Ori', 'State', 'Agency', 'Agentype', 'Source',\n",
      "       'Solved', 'Year', 'StateName', 'Month', 'Incident', 'ActionType',\n",
      "       'Homicide', 'Situation', 'VicAge', 'VicSex', 'VicRace', 'VicEthnic',\n",
      "       'OffAge', 'OffSex', 'OffRace', 'OffEthnic', 'Weapon', 'Relationship',\n",
      "       'Circumstance', 'Subcircum', 'VicCount', 'OffCount', 'FileDate',\n",
      "       'fstate', 'MSA'],\n",
      "      dtype='object')\n"
     ]
    },
    {
     "data": {
      "text/html": [
       "<div>\n",
       "<style scoped>\n",
       "    .dataframe tbody tr th:only-of-type {\n",
       "        vertical-align: middle;\n",
       "    }\n",
       "\n",
       "    .dataframe tbody tr th {\n",
       "        vertical-align: top;\n",
       "    }\n",
       "\n",
       "    .dataframe thead th {\n",
       "        text-align: right;\n",
       "    }\n",
       "</style>\n",
       "<table border=\"1\" class=\"dataframe\">\n",
       "  <thead>\n",
       "    <tr style=\"text-align: right;\">\n",
       "      <th></th>\n",
       "      <th>ID</th>\n",
       "      <th>CNTYFIPS</th>\n",
       "      <th>Ori</th>\n",
       "      <th>State</th>\n",
       "      <th>Agency</th>\n",
       "      <th>Agentype</th>\n",
       "      <th>Source</th>\n",
       "      <th>Solved</th>\n",
       "      <th>Year</th>\n",
       "      <th>StateName</th>\n",
       "      <th>...</th>\n",
       "      <th>OffEthnic</th>\n",
       "      <th>Weapon</th>\n",
       "      <th>Relationship</th>\n",
       "      <th>Circumstance</th>\n",
       "      <th>Subcircum</th>\n",
       "      <th>VicCount</th>\n",
       "      <th>OffCount</th>\n",
       "      <th>FileDate</th>\n",
       "      <th>fstate</th>\n",
       "      <th>MSA</th>\n",
       "    </tr>\n",
       "  </thead>\n",
       "  <tbody>\n",
       "    <tr>\n",
       "      <th>0</th>\n",
       "      <td>197601001AKASP00</td>\n",
       "      <td>Juneau, AK</td>\n",
       "      <td>AL00102</td>\n",
       "      <td>Alabama</td>\n",
       "      <td>Birmingham</td>\n",
       "      <td>Municipal police</td>\n",
       "      <td>FBI</td>\n",
       "      <td>Yes</td>\n",
       "      <td>1976</td>\n",
       "      <td>ALA</td>\n",
       "      <td>...</td>\n",
       "      <td>Unknown or not reported</td>\n",
       "      <td>Shotgun</td>\n",
       "      <td>Acquaintance</td>\n",
       "      <td>Felon killed by private citizen</td>\n",
       "      <td>Felon killed in commission of a crime</td>\n",
       "      <td>0</td>\n",
       "      <td>0</td>\n",
       "      <td>30180</td>\n",
       "      <td>Alabama</td>\n",
       "      <td>Birmingham-Hoover, AL</td>\n",
       "    </tr>\n",
       "  </tbody>\n",
       "</table>\n",
       "<p>1 rows × 32 columns</p>\n",
       "</div>"
      ],
      "text/plain": [
       "                 ID    CNTYFIPS      Ori    State      Agency  \\\n",
       "0  197601001AKASP00  Juneau, AK  AL00102  Alabama  Birmingham   \n",
       "\n",
       "           Agentype Source Solved  Year StateName          ...            \\\n",
       "0  Municipal police    FBI    Yes  1976       ALA          ...             \n",
       "\n",
       "                 OffEthnic   Weapon  Relationship  \\\n",
       "0  Unknown or not reported  Shotgun  Acquaintance   \n",
       "\n",
       "                      Circumstance                              Subcircum  \\\n",
       "0  Felon killed by private citizen  Felon killed in commission of a crime   \n",
       "\n",
       "  VicCount OffCount FileDate   fstate                    MSA  \n",
       "0        0        0    30180  Alabama  Birmingham-Hoover, AL  \n",
       "\n",
       "[1 rows x 32 columns]"
      ]
     },
     "execution_count": 3,
     "metadata": {},
     "output_type": "execute_result"
    }
   ],
   "source": [
    "print(data.columns)\n",
    "data.head(1)"
   ]
  },
  {
   "cell_type": "code",
   "execution_count": 5,
   "metadata": {},
   "outputs": [
    {
     "name": "stdout",
     "output_type": "stream",
     "text": [
      "% of Unknown VicEthnic Entries: 62.0%\n",
      "% of Unknown OffEthnic Entries: 73.0%\n",
      "% of VicCount = 0 Entries: 92.0%\n",
      "% of OffCount = 0 Entries: 88.0%\n"
     ]
    }
   ],
   "source": [
    "\n",
    "print('% of Unknown VicEthnic Entries: ' + str(round(data.ID.loc[data['VicEthnic']=='Unknown or not reported'].count()/data.ID.count()*100))+'%')\n",
    "print('% of Unknown OffEthnic Entries: ' + str(round(data.ID.loc[data['OffEthnic']=='Unknown or not reported'].count()/data.ID.count()*100))+'%')\n",
    "print('% of VicCount = 0 Entries: ' + str(round(data.ID.loc[data['VicCount']==0].count()/data.ID.count()*100))+'%')\n",
    "print('% of OffCount = 0 Entries: ' + str(round(data.ID.loc[data['OffCount']==0].count()/data.ID.count()*100))+'%')"
   ]
  },
  {
   "cell_type": "code",
   "execution_count": 6,
   "metadata": {},
   "outputs": [],
   "source": [
    "data = data.drop(['VicEthnic','OffEthnic','VicCount','OffCount'],1)"
   ]
  },
  {
   "cell_type": "code",
   "execution_count": 7,
   "metadata": {},
   "outputs": [
    {
     "data": {
      "text/plain": [
       "Index(['ID', 'CNTYFIPS', 'Ori', 'State', 'Agency', 'Agentype', 'Source',\n",
       "       'Solved', 'Year', 'StateName', 'Month', 'Incident', 'ActionType',\n",
       "       'Homicide', 'Situation', 'VicAge', 'VicSex', 'VicRace', 'OffAge',\n",
       "       'OffSex', 'OffRace', 'Weapon', 'Relationship', 'Circumstance',\n",
       "       'Subcircum', 'FileDate', 'fstate', 'MSA'],\n",
       "      dtype='object')"
      ]
     },
     "execution_count": 7,
     "metadata": {},
     "output_type": "execute_result"
    }
   ],
   "source": [
    "data.columns"
   ]
  },
  {
   "cell_type": "code",
   "execution_count": 8,
   "metadata": {},
   "outputs": [],
   "source": [
    "# Changes name of ID column to CaseID to prevent issues when creating sqlite database\n",
    "data = data.rename(columns={'ID':'CaseID'})"
   ]
  },
  {
   "cell_type": "code",
   "execution_count": 9,
   "metadata": {},
   "outputs": [],
   "source": [
    "# Changes VicAge string values to integers\n",
    "data['VicAge'] = data['VicAge'].replace('Newborn or infant', 1)\n",
    "data['VicAge'] = data['VicAge'].replace('Age unknown', 0)\n",
    "data['VicAge'] = data['VicAge'].replace('99 years old and more', 99)\n",
    "# Changes OffAge string values to integers\n",
    "data['OffAge'] = data['OffAge'].replace('Offender unknown', 0)\n",
    "data['OffAge'] = data['OffAge'].replace('99 years old and more', 99)"
   ]
  },
  {
   "cell_type": "code",
   "execution_count": 10,
   "metadata": {},
   "outputs": [
    {
     "data": {
      "text/html": [
       "<div>\n",
       "<style scoped>\n",
       "    .dataframe tbody tr th:only-of-type {\n",
       "        vertical-align: middle;\n",
       "    }\n",
       "\n",
       "    .dataframe tbody tr th {\n",
       "        vertical-align: top;\n",
       "    }\n",
       "\n",
       "    .dataframe thead th {\n",
       "        text-align: right;\n",
       "    }\n",
       "</style>\n",
       "<table border=\"1\" class=\"dataframe\">\n",
       "  <thead>\n",
       "    <tr style=\"text-align: right;\">\n",
       "      <th></th>\n",
       "      <th>CaseID</th>\n",
       "      <th>CNTYFIPS</th>\n",
       "      <th>Ori</th>\n",
       "      <th>State</th>\n",
       "      <th>Agency</th>\n",
       "      <th>Agentype</th>\n",
       "      <th>Source</th>\n",
       "      <th>Solved</th>\n",
       "      <th>Year</th>\n",
       "      <th>StateName</th>\n",
       "      <th>...</th>\n",
       "      <th>OffAge</th>\n",
       "      <th>OffSex</th>\n",
       "      <th>OffRace</th>\n",
       "      <th>Weapon</th>\n",
       "      <th>Relationship</th>\n",
       "      <th>Circumstance</th>\n",
       "      <th>Subcircum</th>\n",
       "      <th>FileDate</th>\n",
       "      <th>fstate</th>\n",
       "      <th>MSA</th>\n",
       "    </tr>\n",
       "  </thead>\n",
       "  <tbody>\n",
       "    <tr>\n",
       "      <th>604157</th>\n",
       "      <td>200708001CA03710</td>\n",
       "      <td>San Diego, CA</td>\n",
       "      <td>RI00409</td>\n",
       "      <td>Rhode Island</td>\n",
       "      <td>Providence</td>\n",
       "      <td>Municipal police</td>\n",
       "      <td>FBI</td>\n",
       "      <td>Yes</td>\n",
       "      <td>1976</td>\n",
       "      <td>R I</td>\n",
       "      <td>...</td>\n",
       "      <td>22</td>\n",
       "      <td>Male</td>\n",
       "      <td>White</td>\n",
       "      <td>Firearm, type not stated</td>\n",
       "      <td>Stranger</td>\n",
       "      <td>Other arguments</td>\n",
       "      <td>NaN</td>\n",
       "      <td>30180</td>\n",
       "      <td>Rhode Island</td>\n",
       "      <td>Providence-New Bedford-Fall River, RI-MA</td>\n",
       "    </tr>\n",
       "  </tbody>\n",
       "</table>\n",
       "<p>1 rows × 28 columns</p>\n",
       "</div>"
      ],
      "text/plain": [
       "                  CaseID       CNTYFIPS      Ori         State      Agency  \\\n",
       "604157  200708001CA03710  San Diego, CA  RI00409  Rhode Island  Providence   \n",
       "\n",
       "                Agentype Source Solved  Year StateName  \\\n",
       "604157  Municipal police    FBI    Yes  1976       R I   \n",
       "\n",
       "                          ...                    OffAge  OffSex OffRace  \\\n",
       "604157                    ...                        22    Male   White   \n",
       "\n",
       "                          Weapon Relationship     Circumstance Subcircum  \\\n",
       "604157  Firearm, type not stated     Stranger  Other arguments       NaN   \n",
       "\n",
       "       FileDate        fstate                                       MSA  \n",
       "604157    30180  Rhode Island  Providence-New Bedford-Fall River, RI-MA  \n",
       "\n",
       "[1 rows x 28 columns]"
      ]
     },
     "execution_count": 10,
     "metadata": {},
     "output_type": "execute_result"
    }
   ],
   "source": [
    "# Rhode Island was spelled incorrectly in FBI database...go figure.\n",
    "data['State'] = data['State'].replace('Rhodes Island','Rhode Island')\n",
    "data.loc[data['State']=='Rhode Island'].head(1)"
   ]
  },
  {
   "cell_type": "code",
   "execution_count": 11,
   "metadata": {},
   "outputs": [],
   "source": [
    "# Rewrites data to new CSV file\n",
    "data.to_csv('clean_murder_data.csv', index=False)"
   ]
  },
  {
   "cell_type": "markdown",
   "metadata": {},
   "source": [
    "## Add State Abbreviations column"
   ]
  },
  {
   "cell_type": "code",
   "execution_count": null,
   "metadata": {},
   "outputs": [],
   "source": [
    "stateAbbr = pd.read_csv(\"statesAbbr.csv\")"
   ]
  },
  {
   "cell_type": "code",
   "execution_count": null,
   "metadata": {},
   "outputs": [],
   "source": [
    "# This function outputs a State's abbreviation based on State's name as input value\n",
    "def state_to_stateAbbr(state):\n",
    "    d = stateAbbr.set_index('State').T.to_dict('records')\n",
    "    s = state.strip()\n",
    "    try:\n",
    "        abbr=d[0][s]\n",
    "        return abbr\n",
    "    except:\n",
    "        raise ValueError('ERROR')"
   ]
  },
  {
   "cell_type": "code",
   "execution_count": null,
   "metadata": {},
   "outputs": [],
   "source": [
    "# Creates a new column for the State's abbreviation based on 'State' column\n",
    "# Added a progress bar using tqdm library\n",
    "from tqdm import tqdm\n",
    "tqdm.pandas(desc='This is taking FOREVER!!!')\n",
    "data['StateAbbr'] = data['State'].progress_map(state_to_stateAbbr)"
   ]
  },
  {
   "cell_type": "code",
   "execution_count": null,
   "metadata": {},
   "outputs": [],
   "source": []
  }
 ],
 "metadata": {
  "kernelspec": {
   "display_name": "Python 3",
   "language": "python",
   "name": "python3"
  },
  "language_info": {
   "codemirror_mode": {
    "name": "ipython",
    "version": 3
   },
   "file_extension": ".py",
   "mimetype": "text/x-python",
   "name": "python",
   "nbconvert_exporter": "python",
   "pygments_lexer": "ipython3",
   "version": "3.6.4"
  }
 },
 "nbformat": 4,
 "nbformat_minor": 2
}
