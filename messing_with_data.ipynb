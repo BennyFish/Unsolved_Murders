{
 "cells": [
  {
   "cell_type": "markdown",
   "metadata": {},
   "source": [
    "## Messing with data"
   ]
  },
  {
   "cell_type": "code",
   "execution_count": 1,
   "metadata": {},
   "outputs": [],
   "source": [
    "import pandas as pd\n",
    "import numpy as np"
   ]
  },
  {
   "cell_type": "code",
   "execution_count": null,
   "metadata": {},
   "outputs": [],
   "source": [
    "from matplotlib import pyplot as plt\n",
    "from scipy import stats"
   ]
  },
  {
   "cell_type": "code",
   "execution_count": 2,
   "metadata": {},
   "outputs": [
    {
     "name": "stderr",
     "output_type": "stream",
     "text": [
      "/Users/bennyfish/anaconda3/envs/PythonData/lib/python3.6/site-packages/IPython/core/interactiveshell.py:2728: DtypeWarning: Columns (15,19) have mixed types. Specify dtype option on import or set low_memory=False.\n",
      "  interactivity=interactivity, compiler=compiler, result=result)\n"
     ]
    }
   ],
   "source": [
    "data = pd.read_csv('clean_murder_data.csv')\n",
    "stateAbbr = pd.read_csv(\"StatesAbbr.csv\")"
   ]
  },
  {
   "cell_type": "code",
   "execution_count": null,
   "metadata": {},
   "outputs": [],
   "source": [
    "print(data.columns)\n",
    "print(stateAbbr.columns)"
   ]
  },
  {
   "cell_type": "markdown",
   "metadata": {},
   "source": [
    "## Creating State database"
   ]
  },
  {
   "cell_type": "code",
   "execution_count": null,
   "metadata": {},
   "outputs": [],
   "source": []
  },
  {
   "cell_type": "code",
   "execution_count": 7,
   "metadata": {},
   "outputs": [
    {
     "name": "stdout",
     "output_type": "stream",
     "text": [
      "State\n",
      "Alabama        15687\n",
      "Alaska          1952\n",
      "Arizona        14482\n",
      "Arkansas        8081\n",
      "California    114621\n",
      "Name: CaseID, dtype: int64\n",
      "        State  TotalMurders\n",
      "0     Alabama         15687\n",
      "1      Alaska          1952\n",
      "2     Arizona         14482\n",
      "3    Arkansas          8081\n",
      "4  California        114621\n"
     ]
    }
   ],
   "source": [
    "# Total Murders by state since 1976\n",
    "totalMurders = data.groupby('State')['CaseID'].count()\n",
    "print(totalMurders.head())\n",
    "totalMurders_df = totalMurders.reset_index().rename(columns={'CaseID':'TotalMurders'})\n",
    "print(totalMurders_df.head())"
   ]
  },
  {
   "cell_type": "code",
   "execution_count": 8,
   "metadata": {},
   "outputs": [
    {
     "name": "stdout",
     "output_type": "stream",
     "text": [
      "State\n",
      "Alabama        3350\n",
      "Alaska          362\n",
      "Arizona        4065\n",
      "Arkansas       1217\n",
      "California    41459\n",
      "Name: CaseID, dtype: int64\n",
      "        State  TotalUnsolved\n",
      "0     Alabama           3350\n",
      "1      Alaska            362\n",
      "2     Arizona           4065\n",
      "3    Arkansas           1217\n",
      "4  California          41459\n"
     ]
    }
   ],
   "source": [
    "# Number of UNSOLVED homicides by state since 1976\n",
    "unsolved = data.loc[data['Solved'] == 'No']\n",
    "unsolved = unsolved.groupby('State')['CaseID'].count()\n",
    "print(unsolved.head())\n",
    "unsolved_df = unsolved.reset_index().rename(columns={'CaseID':'TotalUnsolved'})\n",
    "print(unsolved_df.head())"
   ]
  },
  {
   "cell_type": "code",
   "execution_count": 9,
   "metadata": {},
   "outputs": [
    {
     "name": "stdout",
     "output_type": "stream",
     "text": [
      "State\n",
      "Alabama       21.4\n",
      "Alaska        18.5\n",
      "Arizona       28.1\n",
      "Arkansas      15.1\n",
      "California    36.2\n",
      "Name: CaseID, dtype: float64\n",
      "        State  PercentUnsolved\n",
      "0     Alabama             21.4\n",
      "1      Alaska             18.5\n",
      "2     Arizona             28.1\n",
      "3    Arkansas             15.1\n",
      "4  California             36.2\n"
     ]
    }
   ],
   "source": [
    "# Percent of UNSOLVED homicides by state since 1976\n",
    "percentUnsolved = (unsolved/totalMurders)*100\n",
    "percentUnsolved = percentUnsolved.round(1)\n",
    "print(percentUnsolved.round(1).head())\n",
    "percentUnsolved_df = pd.DataFrame(percentUnsolved).reset_index().rename(columns={'CaseID':'PercentUnsolved'})\n",
    "print(percentUnsolved_df.head())"
   ]
  },
  {
   "cell_type": "code",
   "execution_count": 10,
   "metadata": {},
   "outputs": [
    {
     "name": "stdout",
     "output_type": "stream",
     "text": [
      "State\n",
      "Alabama       12337\n",
      "Alaska         1590\n",
      "Arizona       10417\n",
      "Arkansas       6864\n",
      "California    73162\n",
      "Name: CaseID, dtype: int64\n",
      "        State  TotalSolved\n",
      "0     Alabama        12337\n",
      "1      Alaska         1590\n",
      "2     Arizona        10417\n",
      "3    Arkansas         6864\n",
      "4  California        73162\n"
     ]
    }
   ],
   "source": [
    "# Number of SOLVED homicides by state since 1976\n",
    "solved = data.loc[data['Solved'] == 'Yes']\n",
    "solved = solved.groupby('State')['CaseID'].count()\n",
    "print(solved.head())\n",
    "solved_df = solved.reset_index().rename(columns={'CaseID':'TotalSolved'})\n",
    "print(solved_df.head())"
   ]
  },
  {
   "cell_type": "code",
   "execution_count": 11,
   "metadata": {},
   "outputs": [
    {
     "name": "stdout",
     "output_type": "stream",
     "text": [
      "State\n",
      "Alabama       78.6\n",
      "Alaska        81.5\n",
      "Arizona       71.9\n",
      "Arkansas      84.9\n",
      "California    63.8\n",
      "Name: CaseID, dtype: float64\n",
      "        State  PercentSolved\n",
      "0     Alabama           78.6\n",
      "1      Alaska           81.5\n",
      "2     Arizona           71.9\n",
      "3    Arkansas           84.9\n",
      "4  California           63.8\n"
     ]
    }
   ],
   "source": [
    "# Percent of SOLVED homicides by state since 1976\n",
    "percentSolved = (solved/totalMurders)*100\n",
    "percentSolved = percentSolved.round(1)\n",
    "print(percentSolved.head())\n",
    "percentSolved_df = pd.DataFrame(percentSolved).reset_index().rename(columns={'CaseID':'PercentSolved'})\n",
    "print(percentSolved_df.head())"
   ]
  },
  {
   "cell_type": "code",
   "execution_count": 12,
   "metadata": {},
   "outputs": [],
   "source": [
    "# stateWeapon= data.groupby(['State','Weapon'])[\"CaseID\"].count().reset_index()\n",
    "# print(stateWeapon.head())\n",
    "# stateWeapon = stateWeapon.sort_values([\"CaseID\"], ascending=False)\n",
    "# stateWeapon_df = stateWeapon.drop_duplicates([\"State\"])\n",
    "# print(stateWeapon_df.head())"
   ]
  },
  {
   "cell_type": "code",
   "execution_count": 14,
   "metadata": {},
   "outputs": [
    {
     "name": "stdout",
     "output_type": "stream",
     "text": [
      "        State Abbreviation  TotalMurders  TotalUnsolved  PercentUnsolved  \\\n",
      "0     Alabama           AL         15687           3350             21.4   \n",
      "1      Alaska           AK          1952            362             18.5   \n",
      "2     Arizona           AZ         14482           4065             28.1   \n",
      "3    Arkansas           AR          8081           1217             15.1   \n",
      "4  California           CA        114621          41459             36.2   \n",
      "\n",
      "   TotalSolved  PercentSolved  \n",
      "0        12337           78.6  \n",
      "1         1590           81.5  \n",
      "2        10417           71.9  \n",
      "3         6864           84.9  \n",
      "4        73162           63.8  \n"
     ]
    }
   ],
   "source": [
    "# Merge all State data to create final csv\n",
    "state_db = stateAbbr.merge(totalMurders_df,on=\"State\")\n",
    "state_db = state_db.merge(unsolved_df, on=\"State\")\n",
    "state_db = state_db.merge(percentUnsolved_df, on=\"State\")\n",
    "state_db = state_db.merge(solved_df, on=\"State\")\n",
    "state_db = state_db.merge(percentSolved_df, on=\"State\")\n",
    "print(state_db.head())\n",
    "state_db.to_csv(\"state_db.csv\", index=False)"
   ]
  },
  {
   "cell_type": "markdown",
   "metadata": {},
   "source": [
    "## Testing for Murder data by month"
   ]
  },
  {
   "cell_type": "code",
   "execution_count": null,
   "metadata": {},
   "outputs": [],
   "source": [
    "def month_string_to_number(string):\n",
    "    m = {\n",
    "        'jan': 1,\n",
    "        'feb': 2,\n",
    "        'mar': 3,\n",
    "        'apr':4,\n",
    "         'may':5,\n",
    "         'jun':6,\n",
    "         'jul':7,\n",
    "         'aug':8,\n",
    "         'sep':9,\n",
    "         'oct':10,\n",
    "         'nov':11,\n",
    "         'dec':12\n",
    "        }\n",
    "    s = string.strip()[:3].lower()\n",
    "\n",
    "    try:\n",
    "        out = m[s]\n",
    "        return out\n",
    "    except:\n",
    "        raise ValueError('Not a month')"
   ]
  },
  {
   "cell_type": "code",
   "execution_count": null,
   "metadata": {},
   "outputs": [],
   "source": [
    "stateMurdersByMonth = data.groupby(['State','Month'])['CaseID'].count().reset_index()\n",
    "#print(stateMurdersByMonth.head())\n",
    "stateMurdersByMonth['MonthNums']=stateMurdersByMonth['Month'].map(month_string_to_number)\n",
    "stateMurdersByMonth = stateMurdersByMonth.rename(columns={'CaseID':'TotalMurders'})\n",
    "stateMurdersByMonth = stateMurdersByMonth.sort_values(['State',\"MonthNums\"], ascending=True)\n",
    "\n",
    "plotala=stateMurdersByMonth.loc[stateMurdersByMonth['State']=='North Carolina']\n",
    "print(plotala)\n",
    "plt.errorbar(plotala.MonthNums, plotala['TotalMurders'], \n",
    "                 linestyle='--', marker='.', markersize=8)\n"
   ]
  },
  {
   "cell_type": "code",
   "execution_count": null,
   "metadata": {},
   "outputs": [],
   "source": [
    "pivot = stateMurdersByMonth.pivot(index='MonthNums', columns='State',values='TotalMurders')\n",
    "print(pivot.head())\n",
    "pivot = pivot.reset_index()\n",
    "for state in stateAbbr['State']:\n",
    "    plt.errorbar(pivot.MonthNums, pivot[state], fmt='2', \n",
    "                 linestyle='--', marker='.', markersize=8,capsize=4)\n",
    "plt.show()"
   ]
  }
 ],
 "metadata": {
  "kernelspec": {
   "display_name": "Python 3",
   "language": "python",
   "name": "python3"
  },
  "language_info": {
   "codemirror_mode": {
    "name": "ipython",
    "version": 3
   },
   "file_extension": ".py",
   "mimetype": "text/x-python",
   "name": "python",
   "nbconvert_exporter": "python",
   "pygments_lexer": "ipython3",
   "version": "3.6.4"
  }
 },
 "nbformat": 4,
 "nbformat_minor": 2
}
