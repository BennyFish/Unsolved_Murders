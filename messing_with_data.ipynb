{
 "cells": [
  {
   "cell_type": "markdown",
   "metadata": {},
   "source": [
    "## Messing with data"
   ]
  },
  {
   "cell_type": "code",
   "execution_count": 1,
   "metadata": {},
   "outputs": [],
   "source": [
    "import pandas as pd"
   ]
  },
  {
   "cell_type": "code",
   "execution_count": 2,
   "metadata": {},
   "outputs": [
    {
     "name": "stderr",
     "output_type": "stream",
     "text": [
      "/Users/bennyfish/anaconda3/envs/PythonData/lib/python3.6/site-packages/IPython/core/interactiveshell.py:2728: DtypeWarning: Columns (15,19) have mixed types. Specify dtype option on import or set low_memory=False.\n",
      "  interactivity=interactivity, compiler=compiler, result=result)\n"
     ]
    }
   ],
   "source": [
    "data = pd.read_csv('clean_murder_data.csv')\n",
    "df = pd.DataFrame(data)"
   ]
  },
  {
   "cell_type": "code",
   "execution_count": 3,
   "metadata": {},
   "outputs": [
    {
     "data": {
      "text/html": [
       "<div>\n",
       "<style scoped>\n",
       "    .dataframe tbody tr th:only-of-type {\n",
       "        vertical-align: middle;\n",
       "    }\n",
       "\n",
       "    .dataframe tbody tr th {\n",
       "        vertical-align: top;\n",
       "    }\n",
       "\n",
       "    .dataframe thead th {\n",
       "        text-align: right;\n",
       "    }\n",
       "</style>\n",
       "<table border=\"1\" class=\"dataframe\">\n",
       "  <thead>\n",
       "    <tr style=\"text-align: right;\">\n",
       "      <th></th>\n",
       "      <th>ID</th>\n",
       "      <th>CNTYFIPS</th>\n",
       "      <th>Ori</th>\n",
       "      <th>State</th>\n",
       "      <th>Agency</th>\n",
       "      <th>Agentype</th>\n",
       "      <th>Source</th>\n",
       "      <th>Solved</th>\n",
       "      <th>Year</th>\n",
       "      <th>StateName</th>\n",
       "      <th>...</th>\n",
       "      <th>OffEthnic</th>\n",
       "      <th>Weapon</th>\n",
       "      <th>Relationship</th>\n",
       "      <th>Circumstance</th>\n",
       "      <th>Subcircum</th>\n",
       "      <th>VicCount</th>\n",
       "      <th>OffCount</th>\n",
       "      <th>FileDate</th>\n",
       "      <th>fstate</th>\n",
       "      <th>MSA</th>\n",
       "    </tr>\n",
       "  </thead>\n",
       "  <tbody>\n",
       "    <tr>\n",
       "      <th>0</th>\n",
       "      <td>197601001AKASP00</td>\n",
       "      <td>Juneau, AK</td>\n",
       "      <td>AKASP00</td>\n",
       "      <td>Alaska</td>\n",
       "      <td>State Troopers</td>\n",
       "      <td>Primary state LE</td>\n",
       "      <td>FBI</td>\n",
       "      <td>Yes</td>\n",
       "      <td>1976</td>\n",
       "      <td>ALASKA</td>\n",
       "      <td>...</td>\n",
       "      <td>Unknown or not reported</td>\n",
       "      <td>Knife or cutting instrument</td>\n",
       "      <td>Husband</td>\n",
       "      <td>Other arguments</td>\n",
       "      <td>NaN</td>\n",
       "      <td>0</td>\n",
       "      <td>0</td>\n",
       "      <td>30180</td>\n",
       "      <td>Alaska</td>\n",
       "      <td>Rural Alaska</td>\n",
       "    </tr>\n",
       "    <tr>\n",
       "      <th>1</th>\n",
       "      <td>197601001AL00102</td>\n",
       "      <td>Jefferson, AL</td>\n",
       "      <td>AL00102</td>\n",
       "      <td>Alabama</td>\n",
       "      <td>Birmingham</td>\n",
       "      <td>Municipal police</td>\n",
       "      <td>FBI</td>\n",
       "      <td>Yes</td>\n",
       "      <td>1976</td>\n",
       "      <td>ALA</td>\n",
       "      <td>...</td>\n",
       "      <td>Unknown or not reported</td>\n",
       "      <td>Shotgun</td>\n",
       "      <td>Acquaintance</td>\n",
       "      <td>Felon killed by private citizen</td>\n",
       "      <td>Felon killed in commission of a crime</td>\n",
       "      <td>0</td>\n",
       "      <td>0</td>\n",
       "      <td>30180</td>\n",
       "      <td>Alabama</td>\n",
       "      <td>Birmingham-Hoover, AL</td>\n",
       "    </tr>\n",
       "    <tr>\n",
       "      <th>2</th>\n",
       "      <td>197601001AL00104</td>\n",
       "      <td>Jefferson, AL</td>\n",
       "      <td>AL00104</td>\n",
       "      <td>Alabama</td>\n",
       "      <td>Fairfield</td>\n",
       "      <td>Municipal police</td>\n",
       "      <td>FBI</td>\n",
       "      <td>Yes</td>\n",
       "      <td>1976</td>\n",
       "      <td>ALA</td>\n",
       "      <td>...</td>\n",
       "      <td>Unknown or not reported</td>\n",
       "      <td>Shotgun</td>\n",
       "      <td>Wife</td>\n",
       "      <td>Other</td>\n",
       "      <td>NaN</td>\n",
       "      <td>0</td>\n",
       "      <td>0</td>\n",
       "      <td>30180</td>\n",
       "      <td>Alabama</td>\n",
       "      <td>Birmingham-Hoover, AL</td>\n",
       "    </tr>\n",
       "    <tr>\n",
       "      <th>3</th>\n",
       "      <td>197601001AL00106</td>\n",
       "      <td>Jefferson, AL</td>\n",
       "      <td>AL00106</td>\n",
       "      <td>Alabama</td>\n",
       "      <td>Leeds</td>\n",
       "      <td>Municipal police</td>\n",
       "      <td>FBI</td>\n",
       "      <td>Yes</td>\n",
       "      <td>1976</td>\n",
       "      <td>ALA</td>\n",
       "      <td>...</td>\n",
       "      <td>Unknown or not reported</td>\n",
       "      <td>Knife or cutting instrument</td>\n",
       "      <td>Brother</td>\n",
       "      <td>Other arguments</td>\n",
       "      <td>NaN</td>\n",
       "      <td>0</td>\n",
       "      <td>0</td>\n",
       "      <td>30180</td>\n",
       "      <td>Alabama</td>\n",
       "      <td>Birmingham-Hoover, AL</td>\n",
       "    </tr>\n",
       "    <tr>\n",
       "      <th>4</th>\n",
       "      <td>197601001AL00201</td>\n",
       "      <td>Mobile, AL</td>\n",
       "      <td>AL00201</td>\n",
       "      <td>Alabama</td>\n",
       "      <td>Mobile</td>\n",
       "      <td>Municipal police</td>\n",
       "      <td>FBI</td>\n",
       "      <td>Yes</td>\n",
       "      <td>1976</td>\n",
       "      <td>ALA</td>\n",
       "      <td>...</td>\n",
       "      <td>Unknown or not reported</td>\n",
       "      <td>Strangulation - hanging</td>\n",
       "      <td>Acquaintance</td>\n",
       "      <td>Circumstances undetermined</td>\n",
       "      <td>NaN</td>\n",
       "      <td>0</td>\n",
       "      <td>0</td>\n",
       "      <td>30180</td>\n",
       "      <td>Alabama</td>\n",
       "      <td>Mobile, AL</td>\n",
       "    </tr>\n",
       "  </tbody>\n",
       "</table>\n",
       "<p>5 rows × 32 columns</p>\n",
       "</div>"
      ],
      "text/plain": [
       "                 ID       CNTYFIPS      Ori    State          Agency  \\\n",
       "0  197601001AKASP00     Juneau, AK  AKASP00   Alaska  State Troopers   \n",
       "1  197601001AL00102  Jefferson, AL  AL00102  Alabama      Birmingham   \n",
       "2  197601001AL00104  Jefferson, AL  AL00104  Alabama       Fairfield   \n",
       "3  197601001AL00106  Jefferson, AL  AL00106  Alabama           Leeds   \n",
       "4  197601001AL00201     Mobile, AL  AL00201  Alabama          Mobile   \n",
       "\n",
       "           Agentype Source Solved  Year StateName          ...            \\\n",
       "0  Primary state LE    FBI    Yes  1976    ALASKA          ...             \n",
       "1  Municipal police    FBI    Yes  1976       ALA          ...             \n",
       "2  Municipal police    FBI    Yes  1976       ALA          ...             \n",
       "3  Municipal police    FBI    Yes  1976       ALA          ...             \n",
       "4  Municipal police    FBI    Yes  1976       ALA          ...             \n",
       "\n",
       "                 OffEthnic                       Weapon  Relationship  \\\n",
       "0  Unknown or not reported  Knife or cutting instrument       Husband   \n",
       "1  Unknown or not reported                      Shotgun  Acquaintance   \n",
       "2  Unknown or not reported                      Shotgun          Wife   \n",
       "3  Unknown or not reported  Knife or cutting instrument       Brother   \n",
       "4  Unknown or not reported      Strangulation - hanging  Acquaintance   \n",
       "\n",
       "                      Circumstance                              Subcircum  \\\n",
       "0                  Other arguments                                    NaN   \n",
       "1  Felon killed by private citizen  Felon killed in commission of a crime   \n",
       "2                            Other                                    NaN   \n",
       "3                  Other arguments                                    NaN   \n",
       "4       Circumstances undetermined                                    NaN   \n",
       "\n",
       "  VicCount OffCount FileDate   fstate                    MSA  \n",
       "0        0        0    30180   Alaska           Rural Alaska  \n",
       "1        0        0    30180  Alabama  Birmingham-Hoover, AL  \n",
       "2        0        0    30180  Alabama  Birmingham-Hoover, AL  \n",
       "3        0        0    30180  Alabama  Birmingham-Hoover, AL  \n",
       "4        0        0    30180  Alabama             Mobile, AL  \n",
       "\n",
       "[5 rows x 32 columns]"
      ]
     },
     "execution_count": 3,
     "metadata": {},
     "output_type": "execute_result"
    }
   ],
   "source": [
    "print(df.head())"
   ]
  },
  {
   "cell_type": "code",
   "execution_count": 4,
   "metadata": {},
   "outputs": [
    {
     "data": {
      "text/plain": [
       "State\n",
       "California    114621\n",
       "Texas          72529\n",
       "New York       57806\n",
       "Florida        43459\n",
       "Michigan       33404\n",
       "Name: ID, dtype: int64"
      ]
     },
     "execution_count": 4,
     "metadata": {},
     "output_type": "execute_result"
    }
   ],
   "source": [
    "state_df = df.groupby('State')['ID'].count()\n",
    "print(state_df.nlargest())"
   ]
  },
  {
   "cell_type": "code",
   "execution_count": 5,
   "metadata": {},
   "outputs": [
    {
     "data": {
      "text/plain": [
       "Year  State     \n",
       "1976  Alabama        504\n",
       "      Alaska          47\n",
       "      Arizona        169\n",
       "      Arkansas       180\n",
       "      California    2372\n",
       "Name: ID, dtype: int64"
      ]
     },
     "execution_count": 5,
     "metadata": {},
     "output_type": "execute_result"
    }
   ],
   "source": [
    "year_df = df.groupby(['Year','State'])['ID'].count()\n",
    "print(year_df.head())"
   ]
  },
  {
   "cell_type": "code",
   "execution_count": 6,
   "metadata": {},
   "outputs": [
    {
     "name": "stdout",
     "output_type": "stream",
     "text": [
      "Weapon\n",
      "Handgun - pistol, revolver, etc         370146\n",
      "Knife or cutting instrument             112692\n",
      "Firearm, type not stated                 57238\n",
      "Personal weapons, includes beating       43819\n",
      "Shotgun                                  38196\n",
      "Other or type unknown                    37552\n",
      "Blunt object - hammer, club, etc         34176\n",
      "Rifle                                    28626\n",
      "Strangulation - hanging                   9800\n",
      "Fire                                      7453\n",
      "Asphyxiation - includes death by gas      4597\n",
      "Other gun                                 2680\n",
      "Narcotics or drugs, sleeping pills        1979\n",
      "Drowning                                  1461\n",
      "Explosives                                 602\n",
      "Poison - does not include gas              521\n",
      "Pushed or thrown out window                247\n",
      "Name: ID, dtype: int64\n"
     ]
    }
   ],
   "source": [
    "weapon_df = df.groupby('Weapon')['ID'].count()\n",
    "print(weapon_df.nlargest(20))"
   ]
  },
  {
   "cell_type": "code",
   "execution_count": 7,
   "metadata": {},
   "outputs": [
    {
     "name": "stdout",
     "output_type": "stream",
     "text": [
      "State\n",
      "California    41459\n",
      "New York      26283\n",
      "Texas         16895\n",
      "Florida       12196\n",
      "Illinois      12169\n",
      "Name: ID, dtype: int64\n"
     ]
    }
   ],
   "source": [
    "# Number of unsolved homicides by state since 1976\n",
    "unsolved_df = df.loc[df['Solved'] == 'No']\n",
    "unsolved_df = unsolved_df.groupby('State')['ID'].count()\n",
    "print(unsolved_df.nlargest())"
   ]
  },
  {
   "cell_type": "code",
   "execution_count": 8,
   "metadata": {},
   "outputs": [
    {
     "name": "stdout",
     "output_type": "stream",
     "text": [
      "State\n",
      "Alabama                 21.355262\n",
      "Alaska                  18.545082\n",
      "Arizona                 28.069327\n",
      "Arkansas                15.060017\n",
      "California              36.170510\n",
      "Colorado                20.214692\n",
      "Connecticut             32.485111\n",
      "Delaware                20.041465\n",
      "District of Columbia    62.443659\n",
      "Florida                 28.063232\n",
      "Georgia                 26.756328\n",
      "Hawaii                  23.100304\n",
      "Idaho                    9.720280\n",
      "Illinois                37.231146\n",
      "Indiana                 31.965571\n",
      "Iowa                    14.265734\n",
      "Kansas                  19.161206\n",
      "Kentucky                21.579756\n",
      "Louisiana               29.586513\n",
      "Maine                   11.036468\n",
      "Maryland                40.470120\n",
      "Massachusetts           35.628276\n",
      "Michigan                32.624835\n",
      "Minnesota               18.001295\n",
      "Mississippi             15.421655\n",
      "Missouri                36.119856\n",
      "Montana                  8.385482\n",
      "Nebraska                16.983446\n",
      "Nevada                  31.153725\n",
      "New Hampshire           16.099476\n",
      "New Jersey              35.651493\n",
      "New Mexico              25.295556\n",
      "New York                45.467599\n",
      "North Carolina          19.413140\n",
      "North Dakota             7.046070\n",
      "Ohio                    27.638686\n",
      "Oklahoma                16.615027\n",
      "Oregon                  17.997518\n",
      "Pennsylvania            24.734908\n",
      "Rhodes Island           31.707317\n",
      "South Carolina           9.778096\n",
      "South Dakota             8.022388\n",
      "Tennessee               15.683800\n",
      "Texas                   23.294131\n",
      "Utah                    14.407502\n",
      "Vermont                 11.324786\n",
      "Virginia                20.653716\n",
      "Washington              21.794439\n",
      "West Virginia           10.185185\n",
      "Wisconsin               17.034398\n",
      "Wyoming                 10.193548\n",
      "Name: ID, dtype: float64\n"
     ]
    }
   ],
   "source": [
    "# Percent of unsolved homicides by state since 1976\n",
    "percent_df = (unsolved_df/state_df)*100\n",
    "print(percent_df)"
   ]
  },
  {
   "cell_type": "code",
   "execution_count": null,
   "metadata": {},
   "outputs": [],
   "source": []
  }
 ],
 "metadata": {
  "kernelspec": {
   "display_name": "Python 3",
   "language": "python",
   "name": "python3"
  },
  "language_info": {
   "codemirror_mode": {
    "name": "ipython",
    "version": 3
   },
   "file_extension": ".py",
   "mimetype": "text/x-python",
   "name": "python",
   "nbconvert_exporter": "python",
   "pygments_lexer": "ipython3",
   "version": "3.6.4"
  }
 },
 "nbformat": 4,
 "nbformat_minor": 2
}
