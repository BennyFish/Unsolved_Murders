{
 "cells": [
  {
   "cell_type": "code",
   "execution_count": 1,
   "metadata": {},
   "outputs": [],
   "source": [
    "!rm Murder.sqlite"
   ]
  },
  {
   "cell_type": "code",
   "execution_count": 2,
   "metadata": {},
   "outputs": [],
   "source": [
    "import pandas as pd"
   ]
  },
  {
   "cell_type": "code",
   "execution_count": 3,
   "metadata": {},
   "outputs": [],
   "source": [
    "data = pd.read_csv(\"clean_murder_data.csv\", dtype=object)"
   ]
  },
  {
   "cell_type": "code",
   "execution_count": 4,
   "metadata": {},
   "outputs": [],
   "source": [
    "state_data = pd.read_csv(\"state_db.csv\", dtype=object)"
   ]
  },
  {
   "cell_type": "code",
   "execution_count": 5,
   "metadata": {},
   "outputs": [
    {
     "data": {
      "text/html": [
       "<div>\n",
       "<style scoped>\n",
       "    .dataframe tbody tr th:only-of-type {\n",
       "        vertical-align: middle;\n",
       "    }\n",
       "\n",
       "    .dataframe tbody tr th {\n",
       "        vertical-align: top;\n",
       "    }\n",
       "\n",
       "    .dataframe thead th {\n",
       "        text-align: right;\n",
       "    }\n",
       "</style>\n",
       "<table border=\"1\" class=\"dataframe\">\n",
       "  <thead>\n",
       "    <tr style=\"text-align: right;\">\n",
       "      <th></th>\n",
       "      <th>State</th>\n",
       "      <th>Abbreviation</th>\n",
       "      <th>TotalMurders</th>\n",
       "      <th>TotalUnsolved</th>\n",
       "      <th>PercentUnsolved</th>\n",
       "      <th>TotalSolved</th>\n",
       "      <th>PercentSolved</th>\n",
       "    </tr>\n",
       "  </thead>\n",
       "  <tbody>\n",
       "    <tr>\n",
       "      <th>0</th>\n",
       "      <td>Alabama</td>\n",
       "      <td>AL</td>\n",
       "      <td>15687</td>\n",
       "      <td>3350</td>\n",
       "      <td>21.4</td>\n",
       "      <td>12337</td>\n",
       "      <td>78.6</td>\n",
       "    </tr>\n",
       "    <tr>\n",
       "      <th>1</th>\n",
       "      <td>Alaska</td>\n",
       "      <td>AK</td>\n",
       "      <td>1952</td>\n",
       "      <td>362</td>\n",
       "      <td>18.5</td>\n",
       "      <td>1590</td>\n",
       "      <td>81.5</td>\n",
       "    </tr>\n",
       "    <tr>\n",
       "      <th>2</th>\n",
       "      <td>Arizona</td>\n",
       "      <td>AZ</td>\n",
       "      <td>14482</td>\n",
       "      <td>4065</td>\n",
       "      <td>28.1</td>\n",
       "      <td>10417</td>\n",
       "      <td>71.9</td>\n",
       "    </tr>\n",
       "    <tr>\n",
       "      <th>3</th>\n",
       "      <td>Arkansas</td>\n",
       "      <td>AR</td>\n",
       "      <td>8081</td>\n",
       "      <td>1217</td>\n",
       "      <td>15.1</td>\n",
       "      <td>6864</td>\n",
       "      <td>84.9</td>\n",
       "    </tr>\n",
       "    <tr>\n",
       "      <th>4</th>\n",
       "      <td>California</td>\n",
       "      <td>CA</td>\n",
       "      <td>114621</td>\n",
       "      <td>41459</td>\n",
       "      <td>36.2</td>\n",
       "      <td>73162</td>\n",
       "      <td>63.8</td>\n",
       "    </tr>\n",
       "  </tbody>\n",
       "</table>\n",
       "</div>"
      ],
      "text/plain": [
       "        State Abbreviation TotalMurders TotalUnsolved PercentUnsolved  \\\n",
       "0     Alabama           AL        15687          3350            21.4   \n",
       "1      Alaska           AK         1952           362            18.5   \n",
       "2     Arizona           AZ        14482          4065            28.1   \n",
       "3    Arkansas           AR         8081          1217            15.1   \n",
       "4  California           CA       114621         41459            36.2   \n",
       "\n",
       "  TotalSolved PercentSolved  \n",
       "0       12337          78.6  \n",
       "1        1590          81.5  \n",
       "2       10417          71.9  \n",
       "3        6864          84.9  \n",
       "4       73162          63.8  "
      ]
     },
     "execution_count": 5,
     "metadata": {},
     "output_type": "execute_result"
    }
   ],
   "source": [
    "state_data.head()"
   ]
  },
  {
   "cell_type": "code",
   "execution_count": 6,
   "metadata": {},
   "outputs": [],
   "source": [
    "from sqlalchemy.ext.declarative import declarative_base\n",
    "from sqlalchemy import create_engine, MetaData\n",
    "from sqlalchemy import Column, Integer, String, Float\n",
    "Base = declarative_base()"
   ]
  },
  {
   "cell_type": "code",
   "execution_count": 7,
   "metadata": {},
   "outputs": [],
   "source": [
    "# Create a class for data based on State\n",
    "class state(Base):\n",
    "    __tablename__ = \"state_db\"\n",
    "    id = Column(Integer, primary_key=True)\n",
    "    State = Column(String(100))\n",
    "    Abbreviation = Column(String(100))\n",
    "    TotalMurders = Column(Float(25))\n",
    "    TotalUnsolved = Column(Float(25))\n",
    "    PercentUnsolved = Column(Float(25))\n",
    "    TotalSolved = Column(Float(25))\n",
    "    PercentSolved = Column(Float(25))  \n",
    "    \n",
    "    def __repr__(self):\n",
    "        return f\"station_id={self.state_db}, name={self.name}\""
   ]
  },
  {
   "cell_type": "code",
   "execution_count": 10,
   "metadata": {},
   "outputs": [
    {
     "data": {
      "text/plain": [
       "Index(['CaseID', 'CNTYFIPS', 'Ori', 'State', 'Agency', 'Agentype', 'Source',\n",
       "       'Solved', 'Year', 'StateName', 'Month', 'Incident', 'ActionType',\n",
       "       'Homicide', 'Situation', 'VicAge', 'VicSex', 'VicRace', 'VicEthnic',\n",
       "       'OffAge', 'OffSex', 'OffRace', 'OffEthnic', 'Weapon', 'Relationship',\n",
       "       'Circumstance', 'Subcircum', 'VicCount', 'OffCount', 'FileDate',\n",
       "       'fstate', 'MSA'],\n",
       "      dtype='object')"
      ]
     },
     "execution_count": 10,
     "metadata": {},
     "output_type": "execute_result"
    }
   ],
   "source": [
    "data.columns"
   ]
  },
  {
   "cell_type": "code",
   "execution_count": 9,
   "metadata": {},
   "outputs": [],
   "source": [
    "# Create a class for FBI data\n",
    "class fbi(Base):\n",
    "    __tablename__ = \"fbi_db\"\n",
    "    id = Column(Integer, primary_key=True)\n",
    "    CaseID = Column(String(100))\n",
    "    CNTYFIPS = Column(String(25))\n",
    "    Ori = Column(String(25))\n",
    "    State = Column(String(25))\n",
    "    Agency = Column(String(25))\n",
    "    Agencytype = Column(String(25))\n",
    "    Source = Column(String(25))\n",
    "    Solved = Column(String(25))\n",
    "    Year = Column(Integer())\n",
    "    StateName = Column(String(25))\n",
    "    Month = Column(String(25))\n",
    "    Incident = Column(String(25))\n",
    "    ActionType = Column(String(25))\n",
    "    Homicide = Column(String(25))\n",
    "    Situation = Column(String(25))\n",
    "    VicAge = Column(Integer())\n",
    "    VicSex = Column(String(25))\n",
    "    VicRace = Column(String(25))\n",
    "    VicEthnic = Column(String(25))\n",
    "    OffAge = Column(Integer())\n",
    "    OffSex = Column(String(25))\n",
    "    OffRace = Column(String(25))\n",
    "    OffEthnic = Column(String(25))\n",
    "    Weapon = Column(String(25))\n",
    "    Relationship = Column(String(25))\n",
    "    Circumstance = Column(String(25))\n",
    "    Subcircum = Column(String(25))\n",
    "    VicCount = Column(Integer())\n",
    "    OffCount = Column(Integer())\n",
    "    FileDate = Column(String(25))\n",
    "    fstate = Column(String(25))\n",
    "    MSA = Column(String(25))\n",
    "   \n",
    "    \n",
    "    def __repr__(self):\n",
    "        return f\"station_id={self.fbi_db}, name={self.name}\""
   ]
  },
  {
   "cell_type": "code",
   "execution_count": 11,
   "metadata": {},
   "outputs": [],
   "source": [
    "from sqlalchemy import create_engine, MetaData\n",
    "engine = create_engine('sqlite:///Murder.sqlite')\n",
    "conn=engine.connect()\n",
    "Base.metadata.create_all(engine)"
   ]
  },
  {
   "cell_type": "code",
   "execution_count": 12,
   "metadata": {},
   "outputs": [
    {
     "data": {
      "text/plain": [
       "['fbi_db', 'state_db']"
      ]
     },
     "execution_count": 12,
     "metadata": {},
     "output_type": "execute_result"
    }
   ],
   "source": [
    "engine.table_names()"
   ]
  },
  {
   "cell_type": "code",
   "execution_count": 13,
   "metadata": {},
   "outputs": [],
   "source": [
    "from sqlalchemy.orm import Session\n",
    "session = Session(bind=engine)"
   ]
  },
  {
   "cell_type": "code",
   "execution_count": 14,
   "metadata": {},
   "outputs": [],
   "source": [
    "state_data = state_data.to_dict(orient='records')\n",
    "fbi_data = data.to_dict(orient='records')"
   ]
  },
  {
   "cell_type": "code",
   "execution_count": 15,
   "metadata": {},
   "outputs": [],
   "source": [
    "metadata = MetaData(bind=engine)"
   ]
  },
  {
   "cell_type": "code",
   "execution_count": 16,
   "metadata": {},
   "outputs": [],
   "source": [
    "import sqlalchemy\n",
    "state_table = sqlalchemy.Table('state_db', metadata, autoload=True)\n",
    "fbi_table = sqlalchemy.Table('fbi_db', metadata, autoload=True)"
   ]
  },
  {
   "cell_type": "code",
   "execution_count": 17,
   "metadata": {},
   "outputs": [
    {
     "data": {
      "text/plain": [
       "<sqlalchemy.engine.result.ResultProxy at 0x10726b7f0>"
      ]
     },
     "execution_count": 17,
     "metadata": {},
     "output_type": "execute_result"
    }
   ],
   "source": [
    "#Run to clear data\n",
    "conn.execute(state_table.delete())\n",
    "conn.execute(fbi_table.delete())"
   ]
  },
  {
   "cell_type": "code",
   "execution_count": 18,
   "metadata": {},
   "outputs": [
    {
     "data": {
      "text/plain": [
       "<sqlalchemy.engine.result.ResultProxy at 0x107258780>"
      ]
     },
     "execution_count": 18,
     "metadata": {},
     "output_type": "execute_result"
    }
   ],
   "source": [
    "conn.execute(state_table.insert(), state_data)\n",
    "conn.execute(fbi_table.insert(), fbi_data)"
   ]
  },
  {
   "cell_type": "code",
   "execution_count": 19,
   "metadata": {},
   "outputs": [
    {
     "data": {
      "text/plain": [
       "(1, '197601001AKASP00', 'Juneau, AK', 'AL00102', 'Alabama', 'Birmingham', None, 'FBI', 'Yes', 1976, 'ALA', 'January', '1', 'Normal update', 'Murder and non-negligent manslaughter', 'Single victim/single offender', 65, 'Male', 'Black', 'Unknown or not reported', 67, 'Male', 'Black', 'Unknown or not reported', 'Shotgun', 'Acquaintance', 'Felon killed by private citizen', 'Felon killed in commission of a crime', 0, 0, '30180', 'Alabama', 'Birmingham-Hoover, AL')"
      ]
     },
     "execution_count": 19,
     "metadata": {},
     "output_type": "execute_result"
    }
   ],
   "source": [
    "conn.execute('SELECT * FROM fbi_db').first()"
   ]
  },
  {
   "cell_type": "code",
   "execution_count": null,
   "metadata": {},
   "outputs": [],
   "source": []
  }
 ],
 "metadata": {
  "kernelspec": {
   "display_name": "Python 3",
   "language": "python",
   "name": "python3"
  },
  "language_info": {
   "codemirror_mode": {
    "name": "ipython",
    "version": 3
   },
   "file_extension": ".py",
   "mimetype": "text/x-python",
   "name": "python",
   "nbconvert_exporter": "python",
   "pygments_lexer": "ipython3",
   "version": "3.6.4"
  }
 },
 "nbformat": 4,
 "nbformat_minor": 2
}
