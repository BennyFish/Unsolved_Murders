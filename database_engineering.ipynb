{
 "cells": [
  {
   "cell_type": "code",
   "execution_count": 1,
   "metadata": {},
   "outputs": [],
   "source": [
    "!rm Murder.sqlite"
   ]
  },
  {
   "cell_type": "code",
   "execution_count": 2,
   "metadata": {},
   "outputs": [],
   "source": [
    "import pandas as pd"
   ]
  },
  {
   "cell_type": "code",
   "execution_count": null,
   "metadata": {},
   "outputs": [],
   "source": [
    "# data = pd.read_csv(\"clean_murder_data.csv\", dtype=object)\n",
    "# data.head(1)\n",
    "# data.columns"
   ]
  },
  {
   "cell_type": "code",
   "execution_count": 3,
   "metadata": {},
   "outputs": [],
   "source": [
    "state_data = pd.read_json(\"api.json\", orient='records')"
   ]
  },
  {
   "cell_type": "code",
   "execution_count": 4,
   "metadata": {},
   "outputs": [
    {
     "name": "stdout",
     "output_type": "stream",
     "text": [
      "   PercentSolved  PercentUnsolved          State StateAbbr  TotalMurders  \\\n",
      "0           76.9             23.1         Hawaii        HI          1645   \n",
      "1           81.5             18.5         Alaska        AK          1952   \n",
      "2           71.9             28.1        Florida        FL         43459   \n",
      "3           83.9             16.1  New Hampshire        NH           764   \n",
      "4           67.4             32.6       Michigan        MI         33404   \n",
      "\n",
      "   TotalSolved  TotalUnsolved  \n",
      "0         1265            380  \n",
      "1         1590            362  \n",
      "2        31263          12196  \n",
      "3          641            123  \n",
      "4        22506          10898  \n"
     ]
    }
   ],
   "source": [
    "print(state_data.head())"
   ]
  },
  {
   "cell_type": "code",
   "execution_count": 5,
   "metadata": {},
   "outputs": [],
   "source": [
    "from sqlalchemy.ext.declarative import declarative_base\n",
    "from sqlalchemy import create_engine, MetaData\n",
    "from sqlalchemy import Column, Integer, String, Float\n",
    "Base = declarative_base()"
   ]
  },
  {
   "cell_type": "code",
   "execution_count": 6,
   "metadata": {},
   "outputs": [],
   "source": [
    "# Create a class for data based on State\n",
    "class state_db(Base):\n",
    "    __tablename__ = \"state_db\"\n",
    "    id = Column(Integer, primary_key=True)\n",
    "    PercentSolved = Column(Float(25)) \n",
    "    PercentUnsolved = Column(Float(25))\n",
    "    State = Column(String(100))\n",
    "    StateAbbr = Column(String(100))\n",
    "    TotalMurders = Column(Float(25))\n",
    "    TotalSolved = Column(Float(25)) \n",
    "    TotalUnsolved = Column(Float(25))\n",
    "    \n",
    "    def __repr__(self):\n",
    "        return f\"station_id={self.state_db}, name={self.name}\""
   ]
  },
  {
   "cell_type": "code",
   "execution_count": null,
   "metadata": {},
   "outputs": [],
   "source": [
    "# # Create a class for FBI data\n",
    "# class fbi(Base):\n",
    "#     __tablename__ = \"fbi_db\"\n",
    "#     id = Column(Integer, primary_key=True)\n",
    "#     CaseID = Column(String(100))\n",
    "#     CNTYFIPS = Column(String(25))\n",
    "#     Ori = Column(String(25))\n",
    "#     State = Column(String(25))\n",
    "#     Agency = Column(String(25))\n",
    "#     Agencytype = Column(String(25))\n",
    "#     Source = Column(String(25))\n",
    "#     Solved = Column(String(25))\n",
    "#     Year = Column(Integer())\n",
    "#     StateName = Column(String(25))\n",
    "#     Month = Column(String(25))\n",
    "#     Incident = Column(String(25))\n",
    "#     ActionType = Column(String(25))\n",
    "#     Homicide = Column(String(25))\n",
    "#     Situation = Column(String(25))\n",
    "#     VicAge = Column(Integer())\n",
    "#     VicSex = Column(String(25))\n",
    "#     VicRace = Column(String(25))\n",
    "#     VicEthnic = Column(String(25))\n",
    "#     OffAge = Column(Integer())\n",
    "#     OffSex = Column(String(25))\n",
    "#     OffRace = Column(String(25))\n",
    "#     OffEthnic = Column(String(25))\n",
    "#     Weapon = Column(String(25))\n",
    "#     Relationship = Column(String(25))\n",
    "#     Circumstance = Column(String(25))\n",
    "#     Subcircum = Column(String(25))\n",
    "#     VicCount = Column(Integer())\n",
    "#     OffCount = Column(Integer())\n",
    "#     FileDate = Column(String(25))\n",
    "#     fstate = Column(String(25))\n",
    "#     MSA = Column(String(25))\n",
    "   \n",
    "    \n",
    "#     def __repr__(self):\n",
    "#         return f\"station_id={self.fbi_db}, name={self.name}\""
   ]
  },
  {
   "cell_type": "code",
   "execution_count": 7,
   "metadata": {},
   "outputs": [],
   "source": [
    "engine = create_engine('sqlite:///Murder.sqlite')\n",
    "conn=engine.connect()\n",
    "Base.metadata.create_all(engine)"
   ]
  },
  {
   "cell_type": "code",
   "execution_count": 8,
   "metadata": {},
   "outputs": [
    {
     "name": "stdout",
     "output_type": "stream",
     "text": [
      "['state_db']\n"
     ]
    }
   ],
   "source": [
    "print(engine.table_names())"
   ]
  },
  {
   "cell_type": "code",
   "execution_count": 9,
   "metadata": {},
   "outputs": [],
   "source": [
    "from sqlalchemy.orm import Session\n",
    "session = Session(bind=engine)"
   ]
  },
  {
   "cell_type": "code",
   "execution_count": 10,
   "metadata": {},
   "outputs": [],
   "source": [
    "state_data = state_data.to_dict(orient='records')\n",
    "# fbi_data = data.to_dict(orient='records')"
   ]
  },
  {
   "cell_type": "code",
   "execution_count": 11,
   "metadata": {},
   "outputs": [],
   "source": [
    "metadata = MetaData(bind=engine)"
   ]
  },
  {
   "cell_type": "code",
   "execution_count": 12,
   "metadata": {},
   "outputs": [],
   "source": [
    "import sqlalchemy\n",
    "state_table = sqlalchemy.Table('state_db', metadata, autoload=True)\n",
    "# fbi_table = sqlalchemy.Table('fbi_db', metadata, autoload=True)"
   ]
  },
  {
   "cell_type": "code",
   "execution_count": 13,
   "metadata": {},
   "outputs": [
    {
     "data": {
      "text/plain": [
       "<sqlalchemy.engine.result.ResultProxy at 0x114f6b550>"
      ]
     },
     "execution_count": 13,
     "metadata": {},
     "output_type": "execute_result"
    }
   ],
   "source": [
    "#Run to clear data\n",
    "conn.execute(state_table.delete())\n",
    "# conn.execute(fbi_table.delete())"
   ]
  },
  {
   "cell_type": "code",
   "execution_count": 14,
   "metadata": {},
   "outputs": [
    {
     "data": {
      "text/plain": [
       "<sqlalchemy.engine.result.ResultProxy at 0x114faa240>"
      ]
     },
     "execution_count": 14,
     "metadata": {},
     "output_type": "execute_result"
    }
   ],
   "source": [
    "conn.execute(state_table.insert(), state_data)\n",
    "# conn.execute(fbi_table.insert(), fbi_data)"
   ]
  },
  {
   "cell_type": "code",
   "execution_count": 15,
   "metadata": {},
   "outputs": [
    {
     "data": {
      "text/plain": [
       "(1, 76.9, 23.1, 'Hawaii', 'HI', 1645.0, 1265.0, 380.0)"
      ]
     },
     "execution_count": 15,
     "metadata": {},
     "output_type": "execute_result"
    }
   ],
   "source": [
    "conn.execute('SELECT * FROM state_db').first()"
   ]
  },
  {
   "cell_type": "code",
   "execution_count": null,
   "metadata": {},
   "outputs": [],
   "source": []
  }
 ],
 "metadata": {
  "kernelspec": {
   "display_name": "Python 3",
   "language": "python",
   "name": "python3"
  },
  "language_info": {
   "codemirror_mode": {
    "name": "ipython",
    "version": 3
   },
   "file_extension": ".py",
   "mimetype": "text/x-python",
   "name": "python",
   "nbconvert_exporter": "python",
   "pygments_lexer": "ipython3",
   "version": "3.6.4"
  }
 },
 "nbformat": 4,
 "nbformat_minor": 2
}
